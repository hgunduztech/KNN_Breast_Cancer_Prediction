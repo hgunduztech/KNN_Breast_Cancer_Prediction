{
  "metadata": {
    "kernelspec": {
      "name": "python",
      "display_name": "Python (Pyodide)",
      "language": "python"
    },
    "language_info": {
      "codemirror_mode": {
        "name": "python",
        "version": 3
      },
      "file_extension": ".py",
      "mimetype": "text/x-python",
      "name": "python",
      "nbconvert_exporter": "python",
      "pygments_lexer": "ipython3",
      "version": "3.8"
    }
  },
  "nbformat_minor": 4,
  "nbformat": 4,
  "cells": [
    {
      "cell_type": "code",
      "source": "# sklearn: ML Library\nfrom sklearn.datasets import load_breast_cancer\nfrom sklearn.neighbors import KNeighborsClassifier\nfrom sklearn.metrics import accuracy_score, confusion_matrix\nfrom sklearn.model_selection import train_test_split\nfrom sklearn.preprocessing import StandardScaler\nimport pandas as pd\nimport matplotlib.pyplot as plt\n\n# (1) Veri Seti İncelenmesi\ncancer = load_breast_cancer()\ndf = pd.DataFrame(data = cancer.data, columns = cancer.feature_names)\ndf[\"target\"] = cancer.target\n\n# (2) Makine Öğrenmesi Modelinin Seçilmesi – KNN Sınıflandırıcı\n# (3) Modelin Train Edilmesi\nX = cancer.data # features\ny = cancer.target # target\n\n# train test split\nX_train, X_test, y_train, y_test = train_test_split(X, y, test_size = 0.3, random_state = 42)\n\n# olceklendirme \nscaler = StandardScaler()\nX_train = scaler.fit_transform(X_train)\nX_test = scaler.transform(X_test)\n\n# knn modeli olustur ve train et\nknn = KNeighborsClassifier(n_neighbors=3) \nknn.fit(X_train, y_train) # fit fonksiyonu verimizi (samples + target) kullanarak knn algoritmasini egitir\n\n# (4) Sonuçların Değerlendirilmesi: test\ny_pred = knn.predict(X_test)\n\naccuracy = accuracy_score(y_test, y_pred)\nprint(\"Dogruluk:\", accuracy)\n\nconf_matrix = confusion_matrix(y_test, y_pred)\nprint(\"confusion_matrix:\")\nprint(conf_matrix)\n\n\n# (5) Hiperparametre Ayarlaması\n\"\"\"\n    KNN: Hyperparameter = K\n        K: 1,2,3 ... N\n        Accuracy: %A, %B, %C ....\n\"\"\"\naccuracy_values = []\nk_values = []\nfor k in range(1, 21):\n    knn = KNeighborsClassifier(n_neighbors=k)\n    knn.fit(X_train, y_train)\n    y_pred = knn.predict(X_test)\n    accuracy = accuracy_score(y_test, y_pred)\n    accuracy_values.append(accuracy)\n    k_values.append(k)\n\nplt.figure()\nplt.plot(k_values, accuracy_values, marker = \"o\", linestyle = \"-\")\nplt.title(\"K degerine gore dogruluk\")\nplt.xlabel(\"K degeri\")\nplt.ylabel(\"Dogruluk\")\nplt.xticks(k_values)\nplt.grid(True)",
      "metadata": {
        "trusted": true
      },
      "outputs": [],
      "execution_count": null
    }
  ]
}